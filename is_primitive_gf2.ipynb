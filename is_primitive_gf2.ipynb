{
 "metadata": {
  "language_info": {
   "codemirror_mode": {
    "name": "ipython",
    "version": 3
   },
   "file_extension": ".py",
   "mimetype": "text/x-python",
   "name": "python",
   "nbconvert_exporter": "python",
   "pygments_lexer": "ipython3",
   "version": "3.8.6-final"
  },
  "orig_nbformat": 2,
  "kernelspec": {
   "name": "python3",
   "display_name": "Python 3.8.6 64-bit ('env': venv)",
   "metadata": {
    "interpreter": {
     "hash": "d9f3c924fa2bc4623d028c128d2df2fadc79d8e5cbe09c18ffd0fc636c5b9a38"
    }
   }
  }
 },
 "nbformat": 4,
 "nbformat_minor": 2,
 "cells": [
  {
   "cell_type": "code",
   "execution_count": 1,
   "metadata": {},
   "outputs": [
    {
     "output_type": "stream",
     "name": "stdout",
     "text": [
      "True\n"
     ]
    }
   ],
   "source": [
    "import numpy as np\n",
    "from pyGF2.gf2_div import gf2_div\n",
    "\n",
    "def create_numerator(x):\n",
    "    p = np.zeros(x+1, dtype=\"uint8\")\n",
    "    p[0] = 1\n",
    "    p[-1] = 1\n",
    "    return p\n",
    "\n",
    "def is_primitive(p):\n",
    "    n = len(p) - 1 \n",
    "    zero_r_e = 0 # Zero remainder e\n",
    "    max_e = 2 ** n - 1\n",
    "\n",
    "    for e in range(n, max_e + 1):\n",
    "        # Create numerator x^e + 1\n",
    "        a = create_numerator(e)\n",
    "\n",
    "        # GF2 division\n",
    "        q, r = gf2_div(a, p)\n",
    "\n",
    "        # If the remainder is zero\n",
    "        if not (r % 2).any():\n",
    "            zero_r_e = e\n",
    "            break\n",
    "    \n",
    "    # Is e equals to 2^n - 1\n",
    "    return zero_r_e == max_e\n",
    "\n",
    "# x^10 + x^3 + 1\n",
    "f = np.array([1, 0, 0, 0, 0, 0, 0, 1, 0, 0, 1], dtype=\"uint8\")\n",
    "\n",
    "print(is_primitive(f))"
   ]
  },
  {
   "cell_type": "code",
   "execution_count": 3,
   "metadata": {},
   "outputs": [
    {
     "output_type": "stream",
     "name": "stdout",
     "text": [
      "False\n"
     ]
    }
   ],
   "source": [
    "# x^4 + x^3 + x^2 + x^1 + 1\n",
    "f = np.array([1, 1, 1, 1, 1], dtype=\"uint8\")\n",
    "\n",
    "print(is_primitive(f))"
   ]
  }
 ]
}